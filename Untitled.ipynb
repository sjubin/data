{
 "cells": [
  {
   "cell_type": "code",
   "execution_count": 1,
   "metadata": {},
   "outputs": [],
   "source": [
    "import pandas as pd"
   ]
  },
  {
   "cell_type": "code",
   "execution_count": 2,
   "metadata": {},
   "outputs": [],
   "source": [
    "from matplotlib import pyplot as plt "
   ]
  },
  {
   "cell_type": "code",
   "execution_count": 4,
   "metadata": {},
   "outputs": [
    {
     "data": {
      "text/html": [
       "<div>\n",
       "<style scoped>\n",
       "    .dataframe tbody tr th:only-of-type {\n",
       "        vertical-align: middle;\n",
       "    }\n",
       "\n",
       "    .dataframe tbody tr th {\n",
       "        vertical-align: top;\n",
       "    }\n",
       "\n",
       "    .dataframe thead th {\n",
       "        text-align: right;\n",
       "    }\n",
       "</style>\n",
       "<table border=\"1\" class=\"dataframe\">\n",
       "  <thead>\n",
       "    <tr style=\"text-align: right;\">\n",
       "      <th></th>\n",
       "      <th>설치장소</th>\n",
       "      <th>소재지도로명주소</th>\n",
       "      <th>소재지지번주소</th>\n",
       "      <th>설치일자</th>\n",
       "      <th>운영시간(평일)</th>\n",
       "      <th>운영시간(주말)</th>\n",
       "      <th>운영시간(공휴일)</th>\n",
       "      <th>도서적재수량(일반도서)</th>\n",
       "      <th>도서적재수량(어린이도서)</th>\n",
       "      <th>위도</th>\n",
       "      <th>경도</th>\n",
       "      <th>관리기관</th>\n",
       "      <th>전화번호</th>\n",
       "      <th>데이터기준일자</th>\n",
       "    </tr>\n",
       "  </thead>\n",
       "  <tbody>\n",
       "    <tr>\n",
       "      <th>0</th>\n",
       "      <td>성남시청 1층 로비</td>\n",
       "      <td>경기도 성남시 중원구 성남대로 997</td>\n",
       "      <td>경기도 성남시 중원구 여수동 200</td>\n",
       "      <td>2018-01-17</td>\n",
       "      <td>07:00~22:00</td>\n",
       "      <td>07:00~22:00</td>\n",
       "      <td>07:00~22:00</td>\n",
       "      <td>265</td>\n",
       "      <td>65</td>\n",
       "      <td>37.419894</td>\n",
       "      <td>127.126537</td>\n",
       "      <td>성남시 중앙도서관</td>\n",
       "      <td>031-729-4633</td>\n",
       "      <td>2021-01-29</td>\n",
       "    </tr>\n",
       "    <tr>\n",
       "      <th>1</th>\n",
       "      <td>탄천종합운동장 체육회관 1층 로비</td>\n",
       "      <td>경기 성남시 분당구 탄천로215</td>\n",
       "      <td>경기 성남시 분당구 야탑동 486</td>\n",
       "      <td>2017-12-04</td>\n",
       "      <td>00:00~23:59</td>\n",
       "      <td>00:00~23:59</td>\n",
       "      <td>00:00~23:59</td>\n",
       "      <td>250</td>\n",
       "      <td>250</td>\n",
       "      <td>37.410118</td>\n",
       "      <td>127.118220</td>\n",
       "      <td>성남시 중원도서관</td>\n",
       "      <td>031-752-3913</td>\n",
       "      <td>2021-01-29</td>\n",
       "    </tr>\n",
       "    <tr>\n",
       "      <th>2</th>\n",
       "      <td>중앙지하상가(신흥역 소재)</td>\n",
       "      <td>경기 성남시 수정구 산성대로280</td>\n",
       "      <td>경기 성남시 중원구 신흥동 2467</td>\n",
       "      <td>2019-11-22</td>\n",
       "      <td>00:00~23:59</td>\n",
       "      <td>00:00~23:59</td>\n",
       "      <td>00:00~23:59</td>\n",
       "      <td>300</td>\n",
       "      <td>200</td>\n",
       "      <td>37.440749</td>\n",
       "      <td>127.144161</td>\n",
       "      <td>성남시 중원도서관</td>\n",
       "      <td>031-752-3913</td>\n",
       "      <td>2021-01-29</td>\n",
       "    </tr>\n",
       "    <tr>\n",
       "      <th>3</th>\n",
       "      <td>수정구청 종합민원실</td>\n",
       "      <td>경기도 성남시 수정구 수정로 283</td>\n",
       "      <td>경기 성남시 수정구 신흥동 30</td>\n",
       "      <td>2018-11-20</td>\n",
       "      <td>09:00~21:00</td>\n",
       "      <td>미운영</td>\n",
       "      <td>미운영</td>\n",
       "      <td>283</td>\n",
       "      <td>117</td>\n",
       "      <td>37.450496</td>\n",
       "      <td>127.145540</td>\n",
       "      <td>성남시 수정도서관</td>\n",
       "      <td>031-743-9600</td>\n",
       "      <td>2021-01-29</td>\n",
       "    </tr>\n",
       "    <tr>\n",
       "      <th>4</th>\n",
       "      <td>성남시의료원 로비(지하1층)</td>\n",
       "      <td>경기도 성남시 수정구 수정로171번길</td>\n",
       "      <td>경기 성남시 수정구 태평동 3309</td>\n",
       "      <td>2020-12-07</td>\n",
       "      <td>00:00~23:59</td>\n",
       "      <td>00:00~23:59</td>\n",
       "      <td>00:00~23:59</td>\n",
       "      <td>420</td>\n",
       "      <td>86</td>\n",
       "      <td>37.445000</td>\n",
       "      <td>127.138900</td>\n",
       "      <td>성남시 수정도서관</td>\n",
       "      <td>031-743-9600</td>\n",
       "      <td>2021-01-29</td>\n",
       "    </tr>\n",
       "    <tr>\n",
       "      <th>5</th>\n",
       "      <td>황새울국민체육센터 2층</td>\n",
       "      <td>성남시 분당구 황새울로273</td>\n",
       "      <td>경기 성남시 분당구 수내동 43</td>\n",
       "      <td>2020-12-11</td>\n",
       "      <td>09:00~21:00</td>\n",
       "      <td>09:00~18:00</td>\n",
       "      <td>미운영</td>\n",
       "      <td>250</td>\n",
       "      <td>250</td>\n",
       "      <td>37.383210</td>\n",
       "      <td>127.116770</td>\n",
       "      <td>성남시 중원도서관</td>\n",
       "      <td>031-752-3913</td>\n",
       "      <td>2021-01-29</td>\n",
       "    </tr>\n",
       "  </tbody>\n",
       "</table>\n",
       "</div>"
      ],
      "text/plain": [
       "                 설치장소              소재지도로명주소              소재지지번주소        설치일자  \\\n",
       "0          성남시청 1층 로비  경기도 성남시 중원구 성남대로 997  경기도 성남시 중원구 여수동 200  2018-01-17   \n",
       "1  탄천종합운동장 체육회관 1층 로비     경기 성남시 분당구 탄천로215   경기 성남시 분당구 야탑동 486  2017-12-04   \n",
       "2      중앙지하상가(신흥역 소재)    경기 성남시 수정구 산성대로280  경기 성남시 중원구 신흥동 2467  2019-11-22   \n",
       "3          수정구청 종합민원실   경기도 성남시 수정구 수정로 283    경기 성남시 수정구 신흥동 30  2018-11-20   \n",
       "4     성남시의료원 로비(지하1층)  경기도 성남시 수정구 수정로171번길  경기 성남시 수정구 태평동 3309  2020-12-07   \n",
       "5        황새울국민체육센터 2층       성남시 분당구 황새울로273    경기 성남시 분당구 수내동 43  2020-12-11   \n",
       "\n",
       "      운영시간(평일)     운영시간(주말)    운영시간(공휴일)  도서적재수량(일반도서)  도서적재수량(어린이도서)  \\\n",
       "0  07:00~22:00  07:00~22:00  07:00~22:00           265             65   \n",
       "1  00:00~23:59  00:00~23:59  00:00~23:59           250            250   \n",
       "2  00:00~23:59  00:00~23:59  00:00~23:59           300            200   \n",
       "3  09:00~21:00          미운영          미운영           283            117   \n",
       "4  00:00~23:59  00:00~23:59  00:00~23:59           420             86   \n",
       "5  09:00~21:00  09:00~18:00          미운영           250            250   \n",
       "\n",
       "          위도          경도       관리기관          전화번호     데이터기준일자  \n",
       "0  37.419894  127.126537  성남시 중앙도서관  031-729-4633  2021-01-29  \n",
       "1  37.410118  127.118220  성남시 중원도서관  031-752-3913  2021-01-29  \n",
       "2  37.440749  127.144161  성남시 중원도서관  031-752-3913  2021-01-29  \n",
       "3  37.450496  127.145540  성남시 수정도서관  031-743-9600  2021-01-29  \n",
       "4  37.445000  127.138900  성남시 수정도서관  031-743-9600  2021-01-29  \n",
       "5  37.383210  127.116770  성남시 중원도서관  031-752-3913  2021-01-29  "
      ]
     },
     "execution_count": 4,
     "metadata": {},
     "output_type": "execute_result"
    }
   ],
   "source": [
    "data = pd.read_csv('ky.csv',encoding='CP949')\n",
    "data"
   ]
  },
  {
   "cell_type": "code",
   "execution_count": 9,
   "metadata": {},
   "outputs": [
    {
     "data": {
      "text/plain": [
       "[<matplotlib.lines.Line2D at 0x2b54beefbe0>]"
      ]
     },
     "execution_count": 9,
     "metadata": {},
     "output_type": "execute_result"
    },
    {
     "data": {
      "image/png": "[encoded data removed]",
      "text/plain": [
       "<Figure size 432x288 with 1 Axes>"
      ]
     },
     "metadata": {
      "needs_background": "light"
     },
     "output_type": "display_data"
    }
   ],
   "source": [
    "plt.plot(data.설치일자)\n",
    "plt.plot(data.위도)"
   ]
  },
  {
   "cell_type": "code",
   "execution_count": 16,
   "metadata": {},
   "outputs": [
    {
     "data": {
      "text/plain": [
       "[<matplotlib.lines.Line2D at 0x2b54cfebee0>]"
      ]
     },
     "execution_count": 16,
     "metadata": {},
     "output_type": "execute_result"
    },
    {
     "data": {
      "image/png": "[encoded data removed]",
      "text/plain": [
       "<Figure size 432x288 with 1 Axes>"
      ]
     },
     "metadata": {
      "needs_background": "light"
     },
     "output_type": "display_data"
    }
   ],
   "source": [
    "plt.plot(data.설치일자)"
   ]
  },
  {
   "cell_type": "code",
   "execution_count": 17,
   "metadata": {},
   "outputs": [
    {
     "data": {
      "text/plain": [
       "[<matplotlib.lines.Line2D at 0x2b54d048130>]"
      ]
     },
     "execution_count": 17,
     "metadata": {},
     "output_type": "execute_result"
    },
    {
     "data": {
      "image/png": "[encoded data removed]",
      "text/plain": [
       "<Figure size 432x288 with 1 Axes>"
      ]
     },
     "metadata": {
      "needs_background": "light"
     },
     "output_type": "display_data"
    }
   ],
   "source": [
    "plt.plot(data.위도)"
   ]
  },
  {
   "cell_type": "code",
   "execution_count": 18,
   "metadata": {},
   "outputs": [
    {
     "data": {
      "text/plain": [
       "[<matplotlib.lines.Line2D at 0x2b54d0a4340>]"
      ]
     },
     "execution_count": 18,
     "metadata": {},
     "output_type": "execute_result"
    },
    {
     "data": {
      "image/png": "[encoded data removed]",
      "text/plain": [
       "<Figure size 432x288 with 1 Axes>"
      ]
     },
     "metadata": {
      "needs_background": "light"
     },
     "output_type": "display_data"
    }
   ],
   "source": [
    "plt.plot(data.경도)"
   ]
  },
  {
   "cell_type": "code",
   "execution_count": 19,
   "metadata": {},
   "outputs": [
    {
     "data": {
      "text/plain": [
       "[<matplotlib.lines.Line2D at 0x2b54d0f1d60>]"
      ]
     },
     "execution_count": 19,
     "metadata": {},
     "output_type": "execute_result"
    },
    {
     "data": {
      "image/png": "[encoded data removed]",
      "text/plain": [
       "<Figure size 432x288 with 1 Axes>"
      ]
     },
     "metadata": {
      "needs_background": "light"
     },
     "output_type": "display_data"
    }
   ],
   "source": [
    "plt.plot(data.데이터기준일자)"
   ]
  },
  {
   "cell_type": "code",
   "execution_count": 20,
   "metadata": {},
   "outputs": [
    {
     "data": {
      "text/plain": [
       "[<matplotlib.lines.Line2D at 0x2b54d13fb20>]"
      ]
     },
     "execution_count": 20,
     "metadata": {},
     "output_type": "execute_result"
    },
    {
     "data": {
      "image/png": "[encoded data removed]",
      "text/plain": [
       "<Figure size 432x288 with 1 Axes>"
      ]
     },
     "metadata": {
      "needs_background": "light"
     },
     "output_type": "display_data"
    }
   ],
   "source": [
    "plt.plot(data.위도)\n",
    "plt.plot(data.경도)"
   ]
  },
  {
   "cell_type": "code",
   "execution_count": 23,
   "metadata": {},
   "outputs": [
    {
     "data": {
      "text/html": [
       "<div>\n",
       "<style scoped>\n",
       "    .dataframe tbody tr th:only-of-type {\n",
       "        vertical-align: middle;\n",
       "    }\n",
       "\n",
       "    .dataframe tbody tr th {\n",
       "        vertical-align: top;\n",
       "    }\n",
       "\n",
       "    .dataframe thead th {\n",
       "        text-align: right;\n",
       "    }\n",
       "</style>\n",
       "<table border=\"1\" class=\"dataframe\">\n",
       "  <thead>\n",
       "    <tr style=\"text-align: right;\">\n",
       "      <th></th>\n",
       "      <th>구분</th>\n",
       "      <th>유입BOD</th>\n",
       "      <th>방류BOD</th>\n",
       "      <th>유입COD</th>\n",
       "      <th>방류COD</th>\n",
       "      <th>유입SS</th>\n",
       "      <th>방류SS</th>\n",
       "      <th>유입T-N</th>\n",
       "      <th>방류T-N</th>\n",
       "      <th>유입T-P</th>\n",
       "      <th>방류T-P</th>\n",
       "    </tr>\n",
       "  </thead>\n",
       "  <tbody>\n",
       "    <tr>\n",
       "      <th>0</th>\n",
       "      <td>20년11월</td>\n",
       "      <td>366.9</td>\n",
       "      <td>1.0</td>\n",
       "      <td>267.3</td>\n",
       "      <td>8.4</td>\n",
       "      <td>281.3</td>\n",
       "      <td>1.3</td>\n",
       "      <td>50.892</td>\n",
       "      <td>10.084</td>\n",
       "      <td>8.441</td>\n",
       "      <td>0.033</td>\n",
       "    </tr>\n",
       "    <tr>\n",
       "      <th>1</th>\n",
       "      <td>20년12월</td>\n",
       "      <td>360.3</td>\n",
       "      <td>1.1</td>\n",
       "      <td>254.1</td>\n",
       "      <td>9.8</td>\n",
       "      <td>227.4</td>\n",
       "      <td>1.6</td>\n",
       "      <td>51.187</td>\n",
       "      <td>9.192</td>\n",
       "      <td>7.112</td>\n",
       "      <td>0.037</td>\n",
       "    </tr>\n",
       "    <tr>\n",
       "      <th>2</th>\n",
       "      <td>21년 1월</td>\n",
       "      <td>494.6</td>\n",
       "      <td>1.0</td>\n",
       "      <td>385.5</td>\n",
       "      <td>11.4</td>\n",
       "      <td>376.7</td>\n",
       "      <td>1.8</td>\n",
       "      <td>65.685</td>\n",
       "      <td>5.369</td>\n",
       "      <td>13.428</td>\n",
       "      <td>0.054</td>\n",
       "    </tr>\n",
       "  </tbody>\n",
       "</table>\n",
       "</div>"
      ],
      "text/plain": [
       "       구분  유입BOD  방류BOD  유입COD  방류COD   유입SS  방류SS   유입T-N   방류T-N   유입T-P  \\\n",
       "0  20년11월  366.9    1.0  267.3    8.4  281.3   1.3  50.892  10.084   8.441   \n",
       "1  20년12월  360.3    1.1  254.1    9.8  227.4   1.6  51.187   9.192   7.112   \n",
       "2  21년 1월  494.6    1.0  385.5   11.4  376.7   1.8  65.685   5.369  13.428   \n",
       "\n",
       "   방류T-P  \n",
       "0  0.033  \n",
       "1  0.037  \n",
       "2  0.054  "
      ]
     },
     "execution_count": 23,
     "metadata": {},
     "output_type": "execute_result"
    }
   ],
   "source": [
    "import pandas as pd\n",
    "from matplotlib import pyplot as plt \n",
    "data = pd.read_csv('kky.csv',encoding='CP949')\n",
    "data"
   ]
  },
  {
   "cell_type": "code",
   "execution_count": 26,
   "metadata": {},
   "outputs": [
    {
     "data": {
      "text/plain": [
       "[<matplotlib.lines.Line2D at 0x2b54d2658e0>]"
      ]
     },
     "execution_count": 26,
     "metadata": {},
     "output_type": "execute_result"
    },
    {
     "data": {
      "image/png": "[encoded data removed]",
      "text/plain": [
       "<Figure size 432x288 with 1 Axes>"
      ]
     },
     "metadata": {
      "needs_background": "light"
     },
     "output_type": "display_data"
    }
   ],
   "source": [
    "plt.plot(data.유입BOD)\n",
    "plt.plot(data.유입COD)\n",
    "plt.plot(data.유입SS)"
   ]
  },
  {
   "cell_type": "code",
   "execution_count": 35,
   "metadata": {},
   "outputs": [
    {
     "ename": "ValueError",
     "evalue": "'kky' is not one of the example datasets.",
     "output_type": "error",
     "traceback": [
      "\u001b[1;31m---------------------------------------------------------------------------\u001b[0m",
      "\u001b[1;31mValueError\u001b[0m                                Traceback (most recent call last)",
      "\u001b[1;32m<ipython-input-35-2f37fe55c921>\u001b[0m in \u001b[0;36m<module>\u001b[1;34m\u001b[0m\n\u001b[0;32m      1\u001b[0m \u001b[1;32mimport\u001b[0m \u001b[0mseaborn\u001b[0m \u001b[1;32mas\u001b[0m \u001b[0msns\u001b[0m\u001b[1;33m\u001b[0m\u001b[1;33m\u001b[0m\u001b[0m\n\u001b[1;32m----> 2\u001b[1;33m \u001b[0mdf\u001b[0m\u001b[1;33m=\u001b[0m\u001b[0msns\u001b[0m\u001b[1;33m.\u001b[0m\u001b[0mload_dataset\u001b[0m\u001b[1;33m(\u001b[0m\u001b[1;34m'kky'\u001b[0m\u001b[1;33m)\u001b[0m\u001b[1;33m\u001b[0m\u001b[1;33m\u001b[0m\u001b[0m\n\u001b[0m\u001b[0;32m      3\u001b[0m \u001b[0mdf\u001b[0m\u001b[1;33m.\u001b[0m\u001b[0mhead\u001b[0m\u001b[1;33m(\u001b[0m\u001b[1;33m)\u001b[0m\u001b[1;33m\u001b[0m\u001b[1;33m\u001b[0m\u001b[0m\n",
      "\u001b[1;32mC:\\ProgramData\\Anaconda3\\lib\\site-packages\\seaborn\\utils.py\u001b[0m in \u001b[0;36mload_dataset\u001b[1;34m(name, cache, data_home, **kws)\u001b[0m\n\u001b[0;32m    484\u001b[0m         \u001b[1;32mif\u001b[0m \u001b[1;32mnot\u001b[0m \u001b[0mos\u001b[0m\u001b[1;33m.\u001b[0m\u001b[0mpath\u001b[0m\u001b[1;33m.\u001b[0m\u001b[0mexists\u001b[0m\u001b[1;33m(\u001b[0m\u001b[0mcache_path\u001b[0m\u001b[1;33m)\u001b[0m\u001b[1;33m:\u001b[0m\u001b[1;33m\u001b[0m\u001b[1;33m\u001b[0m\u001b[0m\n\u001b[0;32m    485\u001b[0m             \u001b[1;32mif\u001b[0m \u001b[0mname\u001b[0m \u001b[1;32mnot\u001b[0m \u001b[1;32min\u001b[0m \u001b[0mget_dataset_names\u001b[0m\u001b[1;33m(\u001b[0m\u001b[1;33m)\u001b[0m\u001b[1;33m:\u001b[0m\u001b[1;33m\u001b[0m\u001b[1;33m\u001b[0m\u001b[0m\n\u001b[1;32m--> 486\u001b[1;33m                 \u001b[1;32mraise\u001b[0m \u001b[0mValueError\u001b[0m\u001b[1;33m(\u001b[0m\u001b[1;34mf\"'{name}' is not one of the example datasets.\"\u001b[0m\u001b[1;33m)\u001b[0m\u001b[1;33m\u001b[0m\u001b[1;33m\u001b[0m\u001b[0m\n\u001b[0m\u001b[0;32m    487\u001b[0m             \u001b[0murlretrieve\u001b[0m\u001b[1;33m(\u001b[0m\u001b[0mfull_path\u001b[0m\u001b[1;33m,\u001b[0m \u001b[0mcache_path\u001b[0m\u001b[1;33m)\u001b[0m\u001b[1;33m\u001b[0m\u001b[1;33m\u001b[0m\u001b[0m\n\u001b[0;32m    488\u001b[0m         \u001b[0mfull_path\u001b[0m \u001b[1;33m=\u001b[0m \u001b[0mcache_path\u001b[0m\u001b[1;33m\u001b[0m\u001b[1;33m\u001b[0m\u001b[0m\n",
      "\u001b[1;31mValueError\u001b[0m: 'kky' is not one of the example datasets."
     ]
    }
   ],
   "source": [
    "import seaborn as sns\n",
    "df=sns.load_dataset('kky')\n",
    "df.head()\n",
    "%matplotlib inline"
   ]
  },
  {
   "cell_type": "code",
   "execution_count": 34,
   "metadata": {},
   "outputs": [
    {
     "ename": "NameError",
     "evalue": "name 'np' is not defined",
     "output_type": "error",
     "traceback": [
      "\u001b[1;31m---------------------------------------------------------------------------\u001b[0m",
      "\u001b[1;31mNameError\u001b[0m                                 Traceback (most recent call last)",
      "\u001b[1;32m<ipython-input-34-bd970be7f55d>\u001b[0m in \u001b[0;36m<module>\u001b[1;34m\u001b[0m\n\u001b[0;32m      3\u001b[0m \u001b[1;33m\u001b[0m\u001b[0m\n\u001b[0;32m      4\u001b[0m \u001b[0my\u001b[0m \u001b[1;33m=\u001b[0m \u001b[1;33m[\u001b[0m\u001b[1;36m2\u001b[0m\u001b[1;33m,\u001b[0m \u001b[1;36m3\u001b[0m\u001b[1;33m,\u001b[0m \u001b[1;36m1\u001b[0m\u001b[1;33m]\u001b[0m\u001b[1;33m\u001b[0m\u001b[1;33m\u001b[0m\u001b[0m\n\u001b[1;32m----> 5\u001b[1;33m \u001b[0mx\u001b[0m \u001b[1;33m=\u001b[0m \u001b[0mnp\u001b[0m\u001b[1;33m.\u001b[0m\u001b[0marange\u001b[0m\u001b[1;33m(\u001b[0m\u001b[0mlen\u001b[0m\u001b[1;33m(\u001b[0m\u001b[0my\u001b[0m\u001b[1;33m)\u001b[0m\u001b[1;33m)\u001b[0m\u001b[1;33m\u001b[0m\u001b[1;33m\u001b[0m\u001b[0m\n\u001b[0m\u001b[0;32m      6\u001b[0m \u001b[0mxlabel\u001b[0m \u001b[1;33m=\u001b[0m \u001b[1;33m[\u001b[0m\u001b[1;34m'가'\u001b[0m\u001b[1;33m,\u001b[0m \u001b[1;34m'나'\u001b[0m\u001b[1;33m,\u001b[0m \u001b[1;34m'다'\u001b[0m\u001b[1;33m]\u001b[0m\u001b[1;33m\u001b[0m\u001b[1;33m\u001b[0m\u001b[0m\n\u001b[0;32m      7\u001b[0m \u001b[0mplt\u001b[0m\u001b[1;33m.\u001b[0m\u001b[0mtitle\u001b[0m\u001b[1;33m(\u001b[0m\u001b[1;34m\"Bar Chart\"\u001b[0m\u001b[1;33m)\u001b[0m\u001b[1;33m\u001b[0m\u001b[1;33m\u001b[0m\u001b[0m\n",
      "\u001b[1;31mNameError\u001b[0m: name 'np' is not defined"
     ]
    }
   ],
   "source": [
    "import matplotlib as mpl\n",
    "import matplotlib.pylab as plt\n",
    "\n",
    "y = [2, 3, 1]\n",
    "x = np.arange(len(y))\n",
    "xlabel = ['가', '나', '다']\n",
    "plt.title(\"Bar Chart\")\n",
    "plt.bar(x, y)\n",
    "plt.xticks(x, xlabel)\n",
    "plt.yticks(sorted(y))\n",
    "plt.xlabel(\"가나다\")\n",
    "plt.ylabel(\"빈도 수\")\n",
    "plt.show()"
   ]
  },
  {
   "cell_type": "code",
   "execution_count": null,
   "metadata": {},
   "outputs": [],
   "source": []
  }
 ],
 "metadata": {
  "kernelspec": {
   "display_name": "Python 3",
   "language": "python",
   "name": "python3"
  },
  "language_info": {
   "codemirror_mode": {
    "name": "ipython",
    "version": 3
   },
   "file_extension": ".py",
   "mimetype": "text/x-python",
   "name": "python",
   "nbconvert_exporter": "python",
   "pygments_lexer": "ipython3",
   "version": "3.8.5"
  }
 },
 "nbformat": 4,
 "nbformat_minor": 4
}
